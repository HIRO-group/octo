{
 "cells": [
  {
   "cell_type": "code",
   "execution_count": 1,
   "metadata": {},
   "outputs": [
    {
     "name": "stderr",
     "output_type": "stream",
     "text": [
      "2024-12-17 15:33:39.935075: E external/local_xla/xla/stream_executor/cuda/cuda_dnn.cc:9261] Unable to register cuDNN factory: Attempting to register factory for plugin cuDNN when one has already been registered\n",
      "2024-12-17 15:33:39.935100: E external/local_xla/xla/stream_executor/cuda/cuda_fft.cc:607] Unable to register cuFFT factory: Attempting to register factory for plugin cuFFT when one has already been registered\n",
      "2024-12-17 15:33:39.935700: E external/local_xla/xla/stream_executor/cuda/cuda_blas.cc:1515] Unable to register cuBLAS factory: Attempting to register factory for plugin cuBLAS when one has already been registered\n",
      "2024-12-17 15:33:40.513195: W tensorflow/compiler/tf2tensorrt/utils/py_utils.cc:38] TF-TRT Warning: Could not find TensorRT\n"
     ]
    },
    {
     "data": {
      "application/vnd.jupyter.widget-view+json": {
       "model_id": "b1a77385dadf41f8a22fa1c5feca5b66",
       "version_major": 2,
       "version_minor": 0
      },
      "text/plain": [
       "Fetching 6 files:   0%|          | 0/6 [00:00<?, ?it/s]"
      ]
     },
     "metadata": {},
     "output_type": "display_data"
    },
    {
     "data": {
      "application/vnd.jupyter.widget-view+json": {
       "model_id": "6cb63acba33243fb833c86118439199f",
       "version_major": 2,
       "version_minor": 0
      },
      "text/plain": [
       "checkpoint:  96%|#########5| 776M/810M [00:00<?, ?B/s]"
      ]
     },
     "metadata": {},
     "output_type": "display_data"
    },
    {
     "name": "stdout",
     "output_type": "stream",
     "text": [
      "\n",
      "This model is trained with a window size of 2, predicting 7 dimensional actions 4 steps into the future.\n",
      "Observations and tasks conform to the following spec:\n",
      "\n",
      "Observations: {\n",
      "    image_primary: ('batch', 'history_window', 256, 256, 3),\n",
      "    image_wrist: ('batch', 'history_window', 128, 128, 3),\n",
      "}\n",
      "Tasks: {\n",
      "    image_primary: ('batch', 256, 256, 3),\n",
      "    image_wrist: ('batch', 128, 128, 3),\n",
      "    language_instruction: {\n",
      "        attention_mask: ('batch', 16),\n",
      "        input_ids: ('batch', 16),\n",
      "    },\n",
      "}\n",
      "\n",
      "At inference, you may pass in any subset of these observation and task keys, with a history window up to 2 timesteps.\n",
      "\n"
     ]
    }
   ],
   "source": [
    "from octo.model.octo_model import OctoModel\n",
    "model = OctoModel.load_pretrained(\"hf://rail-berkeley/octo-base-1.5\")\n",
    "print(model.get_pretty_spec())"
   ]
  },
  {
   "cell_type": "markdown",
   "metadata": {},
   "source": []
  },
  {
   "cell_type": "code",
   "execution_count": 3,
   "metadata": {},
   "outputs": [],
   "source": [
    "from PIL import Image\n",
    "import requests\n",
    "import matplotlib.pyplot as plt\n",
    "import numpy as np\n",
    "\n",
    "IMAGE_PATH = '/home/caleb/datasets/caleb/random_franka_photos/test_new.jpeg'\n",
    "img = Image.open(IMAGE_PATH)\n",
    "plt.show(img)"
   ]
  }
 ],
 "metadata": {
  "kernelspec": {
   "display_name": "Python 3",
   "language": "python",
   "name": "python3"
  },
  "language_info": {
   "codemirror_mode": {
    "name": "ipython",
    "version": 3
   },
   "file_extension": ".py",
   "mimetype": "text/x-python",
   "name": "python",
   "nbconvert_exporter": "python",
   "pygments_lexer": "ipython3",
   "version": "3.10.16"
  }
 },
 "nbformat": 4,
 "nbformat_minor": 2
}
